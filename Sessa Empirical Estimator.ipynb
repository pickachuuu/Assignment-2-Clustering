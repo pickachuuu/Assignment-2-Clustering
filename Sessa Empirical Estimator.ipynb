{
 "cells": [
  {
   "cell_type": "markdown",
   "id": "09c9bba3-7a40-4407-98c3-5ed752dbb5c4",
   "metadata": {},
   "source": [
    "# Sessa Emprical Estimator"
   ]
  },
  {
   "cell_type": "code",
   "execution_count": null,
   "id": "b9ecd20d-98bc-4ff6-a827-e4d14d009fd0",
   "metadata": {},
   "outputs": [],
   "source": [
    "Converting the R codes into Python Codes."
   ]
  },
  {
   "cell_type": "code",
   "execution_count": 1,
   "id": "c2aa2fe6-f0f2-460f-9bb0-7aac3e38f4ba",
   "metadata": {},
   "outputs": [
    {
     "ename": "ModuleNotFoundError",
     "evalue": "No module named 'pandas'",
     "output_type": "error",
     "traceback": [
      "\u001b[1;31m---------------------------------------------------------------------------\u001b[0m",
      "\u001b[1;31mModuleNotFoundError\u001b[0m                       Traceback (most recent call last)",
      "Cell \u001b[1;32mIn[1], line 1\u001b[0m\n\u001b[1;32m----> 1\u001b[0m \u001b[38;5;28;01mimport\u001b[39;00m\u001b[38;5;250m \u001b[39m\u001b[38;5;21;01mpandas\u001b[39;00m\u001b[38;5;250m \u001b[39m\u001b[38;5;28;01mas\u001b[39;00m\u001b[38;5;250m \u001b[39m\u001b[38;5;21;01mpd\u001b[39;00m\n\u001b[0;32m      2\u001b[0m \u001b[38;5;28;01mimport\u001b[39;00m\u001b[38;5;250m \u001b[39m\u001b[38;5;21;01mnumpy\u001b[39;00m\u001b[38;5;250m \u001b[39m\u001b[38;5;28;01mas\u001b[39;00m\u001b[38;5;250m \u001b[39m\u001b[38;5;21;01mnp\u001b[39;00m\n\u001b[0;32m      3\u001b[0m \u001b[38;5;28;01mimport\u001b[39;00m\u001b[38;5;250m \u001b[39m\u001b[38;5;21;01mscipy\u001b[39;00m\u001b[38;5;21;01m.\u001b[39;00m\u001b[38;5;21;01mstats\u001b[39;00m\u001b[38;5;250m \u001b[39m\u001b[38;5;28;01mas\u001b[39;00m\u001b[38;5;250m \u001b[39m\u001b[38;5;21;01mstats\u001b[39;00m\n",
      "\u001b[1;31mModuleNotFoundError\u001b[0m: No module named 'pandas'"
     ]
    }
   ],
   "source": [
    "import pandas as pd\n",
    "import numpy as np\n",
    "import scipy.stats as stats\n",
    "import matplotlib.pyplot as plt\n",
    "from sklearn.cluster import KMeans\n",
    "from datetime import datetime\n",
    "\n",
    "# Load the dataset (assuming a similar structure to the R script)\n",
    "def load_data(file_path):\n",
    "    df = pd.read_csv(file_path)\n",
    "    df.columns = [\"pnr\", \"eksd\", \"perday\", \"ATC\", \"dur_original\"]  # Rename columns to match R script\n",
    "    df[\"eksd\"] = pd.to_datetime(df[\"eksd\"], format=\"%m/%d/%Y\")  # Convert date format\n",
    "    return df\n",
    "\n",
    "# Function to compute the empirical cumulative distribution function (ECDF)\n",
    "def ecdf(data):\n",
    "    x = np.sort(data)\n",
    "    y = np.arange(1, len(x) + 1) / len(x)\n",
    "    return x, y\n",
    "\n",
    "# Function to compute SEE (Sessa Empirical Estimator)\n",
    "def sessa_empirical_estimator(df, atc_code):\n",
    "    \"\"\"\n",
    "    Computes the duration of filled prescriptions based on k-means clustering.\n",
    "    \"\"\"\n",
    "    # Filter dataset for the selected ATC code\n",
    "    drug_data = df[df[\"ATC\"] == atc_code].copy()\n",
    "    \n",
    "    # Sort by patient ID and prescription date\n",
    "    drug_data.sort_values(by=[\"pnr\", \"eksd\"], inplace=True)\n",
    "    \n",
    "    # Compute previous prescription date for each patient\n",
    "    drug_data[\"prev_eksd\"] = drug_data.groupby(\"pnr\")[\"eksd\"].shift(1)\n",
    "    \n",
    "    # Drop rows with missing previous prescription date\n",
    "    drug_data.dropna(subset=[\"prev_eksd\"], inplace=True)\n",
    "    \n",
    "    # Compute event intervals (days between prescriptions)\n",
    "    drug_data[\"event_interval\"] = (drug_data[\"eksd\"] - drug_data[\"prev_eksd\"]).dt.days\n",
    "    \n",
    "    # Compute ECDF and retain 80% of the data\n",
    "    x, y = ecdf(drug_data[\"event_interval\"].values)\n",
    "    cutoff = np.percentile(x, 80)  # Removing the upper 20%\n",
    "    filtered_data = drug_data[drug_data[\"event_interval\"] <= cutoff]\n",
    "    \n",
    "    # Apply K-Means clustering to classify prescription intervals\n",
    "    kmeans = KMeans(n_clusters=3, random_state=42, n_init=10)\n",
    "    filtered_data[\"cluster\"] = kmeans.fit_predict(filtered_data[[\"event_interval\"]])\n",
    "    \n",
    "    # Compute median prescription duration for each cluster\n",
    "    cluster_medians = filtered_data.groupby(\"cluster\")[\"event_interval\"].median().reset_index()\n",
    "    \n",
    "    # Assign the median duration based on the identified cluster\n",
    "    merged_data = filtered_data.merge(cluster_medians, on=\"cluster\", suffixes=(\"\", \"_median\"))\n",
    "    \n",
    "    # Assign estimated duration for each prescription\n",
    "    df = df.merge(merged_data[[\"pnr\", \"event_interval_median\"]], on=\"pnr\", how=\"left\")\n",
    "    df[\"estimated_duration\"] = df[\"event_interval_median\"].fillna(df[\"event_interval_median\"].median())\n",
    "    \n",
    "    return df\n",
    "\n",
    "# Example usage:\n",
    "# df = load_data(\"med_events.csv\")\n",
    "# result = sessa_empirical_estimator(df, \"C09CA01\")\n",
    "# result.head()\n"
   ]
  },
  {
   "cell_type": "code",
   "execution_count": null,
   "id": "a624801a-55df-4f07-9c91-482088257b52",
   "metadata": {},
   "outputs": [],
   "source": []
  }
 ],
 "metadata": {
  "kernelspec": {
   "display_name": "Python 3 (ipykernel)",
   "language": "python",
   "name": "python3"
  },
  "language_info": {
   "codemirror_mode": {
    "name": "ipython",
    "version": 3
   },
   "file_extension": ".py",
   "mimetype": "text/x-python",
   "name": "python",
   "nbconvert_exporter": "python",
   "pygments_lexer": "ipython3",
   "version": "3.13.2"
  }
 },
 "nbformat": 4,
 "nbformat_minor": 5
}
